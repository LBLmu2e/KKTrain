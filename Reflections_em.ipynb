{
 "cells": [
  {
   "cell_type": "markdown",
   "id": "bb74a62f-a4a9-4e61-9415-58c8a06f5f75",
   "metadata": {},
   "source": [
    "# Reflecting Cosmic Ray analysis\n",
    "This notebook analyzes pairs of tracks from simulated cosmic ray events, comparing upstream and downstream properties to extract the momentum resolution and shift due to material effects.\n",
    "It uses root, uproot, and standard python numerical and plotting packages."
   ]
  },
  {
   "cell_type": "code",
   "execution_count": 1,
   "id": "52ce5426-86e5-4f6e-a7d5-a847d6e2ce97",
   "metadata": {
    "tags": []
   },
   "outputs": [
    {
     "name": "stdout",
     "output_type": "stream",
     "text": [
      "Hello world\n"
     ]
    }
   ],
   "source": [
    "import os\n",
    "import uproot \n",
    "import awkward as ak\n",
    "import numpy as np\n",
    "import matplotlib.pyplot as plt\n",
    "import matplotlib as mpl\n",
    "import tensorflow as tf\n",
    "from pathlib import Path\n",
    "print(\"Hello world\")"
   ]
  },
  {
   "cell_type": "markdown",
   "id": "13b18db5-7d46-40ed-9a1b-528d48256097",
   "metadata": {},
   "source": [
    "This notebook processes TrkAna files constructed using the SelectReflections_module filter.\n",
    "The TrkAna files contain 4 trees, one for each particle type reconstruction assumption: e+, e-, mu+, and mu-.\n",
    "Each tree has the same structure, consisting of 2 tracks reconstructed from this particle: trk[0] is the upstream-going fit, trk[1] is the downstream-going fit."
   ]
  },
  {
   "cell_type": "code",
   "execution_count": 2,
   "id": "90450e58-8bce-4fae-be27-97d62d89be18",
   "metadata": {
    "tags": []
   },
   "outputs": [
    {
     "name": "stdout",
     "output_type": "stream",
     "text": [
      "Fields available in 'trkfit': ['mom', 'pos', 'time', 'dmom', 'momerr', 'inbounds', 'gap', 'early', 'late', 'sid', 'sindex']\n",
      "uspstream  1526  downstream  1526\n",
      "Upstream momentum  1526 [82.07796  75.36583  67.59767  58.463898 68.480675 63.87098  62.77167\n",
      " 71.96335  56.92102  55.0708  ]\n",
      "Downstream momentum  1526 [82.70859  71.720894 67.31138  54.901886 69.2935   53.435535 63.987545\n",
      " 72.974846 56.425304 54.29911 ]\n",
      "Upstream fit upstream time  1526 [1058.8132499565834, 791.2595864891081, 631.1596816295064, 1157.0246589749927, 863.8595146052817, 978.5759806240161, 481.6281126014945, 916.8505660404207, 1141.601805605004, 1362.4950431645411]\n",
      "Upstream fit downstream time 1526 [1111.7131491620162, 848.0066844004847, 682.1531754384955, 1226.6696936533208, 921.3555891737991, 1029.7148536170612, 542.8695526806285, 971.3281016892062, 1204.2884061798172, 1421.540853948377]\n",
      "Downstream fit downstream time 1526 [1111.3902684690056, 845.557292661109, 681.8897517678457, 1228.244761236923, 921.1102214601866, 1036.5354399233238, 545.2202117356964, 971.0875856452898, 1207.3757852413721, 1422.1941870112166]\n",
      "Upstream MC PDG code 1526 [11, 11, 11, 11, 11, -11, 11, 11, 11, 11]\n",
      "Downstream MC PDG code 1526 [11, 11, 11, 11, 11, 11, 11, 11, 11, 11]\n",
      "Decays  1\n",
      "nmat  1526\n",
      "N ST  [0 0 0 0 0 0 0 3 0 0]  N IPA  [3 5 6 4 4 6 3 4 4 5] N mat  [3 5 6 4 4 6 3 7 4 5]\n"
     ]
    }
   ],
   "source": [
    "input_dataset = np.empty\n",
    "temp = np.empty\n",
    "signal = np.empty\n",
    "backgnd = np.empty\n",
    "files = [\"/global/cfs/cdirs/m3712/Mu2e/TARef_test.root:TAReM/trkana\"]\n",
    "\n",
    "up_up_time = []\n",
    "up_down_time = []\n",
    "down_down_time = []\n",
    "upmcpdg = []\n",
    "downmcpdg = []\n",
    "up_px = []\n",
    "up_py = []\n",
    "up_pz = []\n",
    "down_px = []\n",
    "down_py = []\n",
    "down_pz = []\n",
    "nipa_up = []\n",
    "nipa_down = []\n",
    "nst_up = []\n",
    "nst_down = []\n",
    "for batch,rep in uproot.iterate(files,filter_name=\"/trk|trkfit|trkmcsim/i\",report=True):\n",
    "    print(\"Fields available in 'trkfit':\", ak.fields(batch[\"trkfit\"]))\n",
    "    # upstream and downstream tracks\n",
    "    upstream = batch[\"trkfit\"][:,0]\n",
    "    downstream = batch[\"trkfit\"][:,1]\n",
    "    print(\"uspstream \",len(upstream),\" downstream \",len(downstream))\n",
    "    uptrkmcsim = batch[\"trkmcsim\"][:,0][:,0] # primary MC particle matched to the upstream track\n",
    "    downtrkmcsim = batch[\"trkmcsim\"][:,1][:,0] # primary MC particle matched to the downstream track\n",
    "    # find the samples at the tracker entrance\n",
    "    up_up = (upstream[\"sid\"] == 0) & (upstream['mom']['fCoordinates']['fZ'] < 0) # exiting the tracker\n",
    "    up_down = (upstream[\"sid\"] == 0) & (upstream['mom']['fCoordinates']['fZ'] > 0) # re-entering the tracker\n",
    "    down_down = (downstream[\"sid\"] == 0) & (downstream['mom']['fCoordinates']['fZ'] > 0) # entering the tracker\n",
    "    has_up_up = ak.sum(up_up,axis=1) > 0\n",
    "    has_up_down = ak.sum(up_down,axis=1) > 0\n",
    "    has_down_down = ak.sum(down_down,axis=1) > 0\n",
    "    has_all = has_up_up & has_up_down & has_down_down\n",
    "    up_up = up_up[has_all]\n",
    "    up_down = up_down[has_all]\n",
    "    down_down = down_down[has_all]\n",
    " #   print(\"has_all \",len(has_up_up),len(has_up_down),len(has_down_down),len(has_all))\n",
    "#    #print(\"has_all \",ak.num(has_up_up,axis=1),ak.num(has_up_down,axis=1),ak.num(has_down_down,axis=1),ak.num(has_all,axis=1))\n",
    "#    print(\"nums axis=0\", ak.num(up_up, axis=0), ak.num(up_down, axis=0), ak.num(down_down, axis=0))\n",
    "#    print(\"nums axis=1\", ak.num(up_up, axis=1), ak.num(up_down, axis=1), ak.num(down_down, axis=1))\n",
    "#    print(\"masked\", ak.num(upstream[has_all], axis=0), ak.num(upstream[has_all], axis=1))\n",
    "    up_up_time.extend(ak.flatten(upstream[has_all][up_up]['time']))                      \n",
    "    up_down_time.extend(ak.flatten(upstream[has_all][up_down]['time']))\n",
    "    down_down_time.extend(ak.flatten(downstream[has_all][down_down]['time']))\n",
    "    uptrkmcsim = uptrkmcsim[has_all]\n",
    "    downtrkmcsim = downtrkmcsim[has_all]\n",
    "    upmcpdg.extend(uptrkmcsim['pdg'])\n",
    "    downmcpdg.extend(downtrkmcsim['pdg'])\n",
    "    up_px.extend(ak.flatten(upstream[has_all][up_down]['mom']['fCoordinates']['fX']))\n",
    "    up_py.extend(ak.flatten(upstream[has_all][up_down]['mom']['fCoordinates']['fY']))\n",
    "    up_pz.extend(ak.flatten(upstream[has_all][up_down]['mom']['fCoordinates']['fZ']))\n",
    "    down_px.extend(ak.flatten(downstream[has_all][down_down]['mom']['fCoordinates']['fX']))\n",
    "    down_py.extend(ak.flatten(downstream[has_all][down_down]['mom']['fCoordinates']['fY']))\n",
    "    down_pz.extend(ak.flatten(downstream[has_all][down_down]['mom']['fCoordinates']['fZ']))\n",
    "    \n",
    "    nipaup = batch[\"trk.nipaup\"][:,0] # only need upstream track for material intersection counting\n",
    "    nipadown = batch[\"trk.nipadown\"][:,0]\n",
    "    nstup = batch[\"trk.nstup\"][:,0]\n",
    "    nstdown = batch[\"trk.nstdown\"][:,0]\n",
    "    nipaup = nipaup[has_all]\n",
    "    nipadown = nipadown[has_all]\n",
    "    nstup = nstup[has_all]\n",
    "    nstdown = nstdown[has_all]\n",
    "    \n",
    "    nipa_up.extend(nipaup)\n",
    "    nipa_down.extend(nipadown)\n",
    "    nst_up.extend(nstup)    \n",
    "    nst_down.extend(nstdown)\n",
    "    \n",
    "\n",
    "deltapdg = np.subtract(upmcpdg,downmcpdg)\n",
    "decay = []\n",
    "for dpdg in deltapdg :\n",
    "    decay.append(dpdg != 0)\n",
    "decay = np.array(decay)\n",
    "\n",
    "#print(\"NIPA_up\",len(nipa_up),nipa_up[:10])\n",
    "\n",
    "up_px = np.square(up_px)\n",
    "up_py = np.square(up_py)\n",
    "up_pz = np.square(up_pz)\n",
    "down_px = np.square(down_px)\n",
    "down_py = np.square(down_py)\n",
    "down_pz = np.square(down_pz)\n",
    "up_mom = np.sqrt(np.add(up_px,up_py,up_pz))\n",
    "down_mom = np.sqrt(np.add(down_px,down_py,down_pz))\n",
    "\n",
    "nipa = np.add(nipa_up,nipa_down)\n",
    "nst = np.add(nst_up,nst_down)\n",
    "nmat = np.add(nipa,nst)\n",
    "\n",
    "print(\"Upstream momentum \",len(up_mom),up_mom[:10])\n",
    "print(\"Downstream momentum \",len(down_mom),down_mom[:10])\n",
    "print(\"Upstream fit upstream time \",len(up_up_time),up_up_time[:10])\n",
    "print(\"Upstream fit downstream time\",len(up_down_time),up_down_time[:10])\n",
    "print(\"Downstream fit downstream time\",len(down_down_time),down_down_time[:10])\n",
    "print(\"Upstream MC PDG code\",len(upmcpdg),upmcpdg[:10])\n",
    "print(\"Downstream MC PDG code\",len(downmcpdg),downmcpdg[:10])\n",
    "print(\"Decays \",decay.sum())\n",
    "print(\"nmat \",len(nmat))\n",
    "print(\"N ST \",nst[:10],\" N IPA \",nipa[:10], \"N mat \", nmat[:10])\n"
   ]
  },
  {
   "cell_type": "markdown",
   "id": "a0f8da83-bab9-4d9c-8e31-17a43f156293",
   "metadata": {},
   "source": [
    "Label true elec"
   ]
  },
  {
   "cell_type": "code",
   "execution_count": 3,
   "id": "995554ec-9ccd-4ff6-92ba-8d315a75d81a",
   "metadata": {
    "tags": []
   },
   "outputs": [
    {
     "name": "stdout",
     "output_type": "stream",
     "text": [
      "True Electrons 1526 [ True  True  True  True  True False  True  True  True  True]\n",
      "True Muons 1526 [False False False False False False False False False False]\n"
     ]
    }
   ],
   "source": [
    "true_em = []\n",
    "true_mum = []\n",
    "for mcpdg in upmcpdg :\n",
    "    true_em.append(mcpdg == 11)\n",
    "    true_mum.append(mcpdg == 13)\n",
    "true_em = np.array(true_em)\n",
    "true_mum = np.array(true_mum)\n",
    "print(\"True Electrons\",len(true_em),true_em[:10])\n",
    "print(\"True Muons\",len(true_mum),true_mum[:10])\n"
   ]
  },
  {
   "cell_type": "code",
   "execution_count": 4,
   "id": "c5e2e22b-7dfd-4f0f-bbb6-c6f8752e636a",
   "metadata": {
    "tags": []
   },
   "outputs": [
    {
     "name": "stdout",
     "output_type": "stream",
     "text": [
      "N true electrons  1363  N true muons  162\n"
     ]
    },
    {
     "data": {
      "text/plain": [
       "<matplotlib.legend.Legend at 0x7f68e857adf0>"
      ]
     },
     "execution_count": 4,
     "metadata": {},
     "output_type": "execute_result"
    },
    {
     "data": {
      "image/png": "[encoded data removed]",
      "text/plain": [
       "<Figure size 500x500 with 1 Axes>"
      ]
     },
     "metadata": {},
     "output_type": "display_data"
    }
   ],
   "source": [
    "time_diff = np.subtract(up_down_time,down_down_time)\n",
    "em_time_diff = time_diff[true_em]\n",
    "mum_time_diff = time_diff[true_mum]\n",
    "print(\"N true electrons \",len(em_time_diff), \" N true muons \", len(mum_time_diff))\n",
    "fig, ax = plt.subplots(layout='constrained', figsize=(5, 5))\n",
    "ehist = ax.hist(em_time_diff,label=\"True $e^-$ $\\Delta$ T\", bins=100,range=(-25,25))\n",
    "muhist = ax.hist(mum_time_diff,label=\"True $\\mu^-$ $\\Delta$ T\", bins=100,range=(-25,25))\n",
    "ax.set_xlabel('Upstream Fit - Downstream Fit Time (ns)',loc='right')\n",
    "ax.legend()"
   ]
  },
  {
   "cell_type": "code",
   "execution_count": 5,
   "id": "e91e3053-99bc-4579-a6e8-9fc88de87967",
   "metadata": {
    "tags": []
   },
   "outputs": [
    {
     "name": "stdout",
     "output_type": "stream",
     "text": [
      "Good electron  1526 [True, True, True, True, True, False, True, True, True, True]\n",
      "For Delta T <  5.0  efficiency =  0.9757887013939839  purity =  1.0\n"
     ]
    }
   ],
   "source": [
    "abs_time_diff = np.absolute(time_diff)\n",
    "good_em = []\n",
    "max_tdiff = 5.0\n",
    "for tdiff in abs_time_diff :\n",
    "    good_em.append( tdiff <  max_tdiff)\n",
    "print(\"Good electron \",len(good_em),good_em[:10])\n",
    "good_em = np.array(good_em)\n",
    "true_good_em = good_em[true_em]\n",
    "eff = good_em.sum()/true_em.sum()\n",
    "pur = true_good_em.sum()/good_em.sum()\n",
    "print(\"For Delta T < \", max_tdiff , \" efficiency = \",eff,\" purity = \",pur)"
   ]
  },
  {
   "cell_type": "code",
   "execution_count": 6,
   "id": "7909c4f4-217f-4dfc-a5df-0e55ace0ebe9",
   "metadata": {},
   "outputs": [
    {
     "data": {
      "text/plain": [
       "<matplotlib.legend.Legend at 0x7f68e6ad6610>"
      ]
     },
     "execution_count": 6,
     "metadata": {},
     "output_type": "execute_result"
    },
    {
     "data": {
      "image/png": "[encoded data removed]",
      "text/plain": [
       "<Figure size 640x480 with 1 Axes>"
      ]
     },
     "metadata": {},
     "output_type": "display_data"
    }
   ],
   "source": [
    "transit_time = np.subtract(up_down_time,up_up_time)\n",
    "em_transit_time = transit_time[true_em]\n",
    "mum_transit_time = transit_time[true_mum]\n",
    "plt.hist(em_transit_time,label=\"e- Transit Time\", bins=100,range=(40,100))\n",
    "plt.hist(mum_transit_time,label=\"mu- Transit Time\", bins=100,range=(40,100))\n",
    "plt.xlabel('Transit Time (ns)', loc='right')\n",
    "plt.legend()"
   ]
  },
  {
   "cell_type": "code",
   "execution_count": 7,
   "id": "60a8e965-5843-4512-b206-bd5c2e5f1dca",
   "metadata": {
    "tags": []
   },
   "outputs": [
    {
     "data": {
      "text/plain": [
       "<matplotlib.legend.Legend at 0x7f68e6b6c4f0>"
      ]
     },
     "execution_count": 7,
     "metadata": {},
     "output_type": "execute_result"
    },
    {
     "data": {
      "image/png": "[encoded data removed]",
      "text/plain": [
       "<Figure size 500x500 with 1 Axes>"
      ]
     },
     "metadata": {},
     "output_type": "display_data"
    }
   ],
   "source": [
    "mom_diff = np.subtract(up_mom,down_mom)\n",
    "nomat = []\n",
    "for nm in nmat :\n",
    "    nomat.append( nm ==0 )\n",
    "nomat = np.array(nomat)\n",
    "good_em_nomat = np.logical_and(nomat,good_em)\n",
    "\n",
    "em_mom_diff = mom_diff[good_em]\n",
    "em_mom_diff_nomat = mom_diff[good_em_nomat]\n",
    "nmat_good = nmat[good_em]\n",
    "up_mom_good = up_mom[good_em]\n",
    "\n",
    "#fig, (ax0, ax1, ax2)  = plt.subplots(1,3,layout='constrained', figsize=(15,4))\n",
    "fig, (ax0)  = plt.subplots(1,1,layout='constrained', figsize=(5,5))\n",
    "#ax0.hist(em_mom_diff,label=\"$e^-$ $\\Delta$ P\", histtype='step', bins=100,range=(-10,10))\n",
    "ax0.hist(em_mom_diff,label=\"$e^-$ $\\Delta$ P\",bins=100,range=(-10,10))\n",
    "#ax0.hist(em_mom_diff_nomat,label=\"e- Upstream - Downstream Momentum (No Material)\", histtype='step', bins=100,range=(-10,10))\n",
    "ax0.set_xlabel(\"Upstream Fit - Downstream Fit Momentum (MeV)\",loc='right')\n",
    "ax0.legend()\n",
    "#ax1.hist2d(nmat_good,em_mom_diff,bins=(15,100),range=([0,15],[-5,5]),norm=mpl.colors.LogNorm())\n",
    "#ax1.set_xlabel(\"N Material Xings\",loc='right')\n",
    "#ax1.set_ylabel(\"Delta P (MeV)\",loc='top')\n",
    "#ax2.hist2d(up_mom_good,em_mom_diff,bins=(20,100),range=([40,150],[-5,5]),norm=mpl.colors.LogNorm())\n",
    "#ax2.set_xlabel(\"Upstream P (MeV)\",loc='right')\n",
    "#ax2.set_ylabel(\"Delta P (MeV)\",loc='top')"
   ]
  }
 ],
 "metadata": {
  "kernelspec": {
   "display_name": "TrainDrift",
   "language": "python",
   "name": "myenv"
  },
  "language_info": {
   "codemirror_mode": {
    "name": "ipython",
    "version": 3
   },
   "file_extension": ".py",
   "mimetype": "text/x-python",
   "name": "python",
   "nbconvert_exporter": "python",
   "pygments_lexer": "ipython3",
   "version": "3.9.16"
  }
 },
 "nbformat": 4,
 "nbformat_minor": 5
}
