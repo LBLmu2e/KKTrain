{
 "cells": [
  {
   "cell_type": "code",
   "execution_count": null,
   "id": "b38d21f4-92fb-41ac-9bb2-f435c0cd80fe",
   "metadata": {
    "tags": []
   },
   "outputs": [],
   "source": [
    "import glob, os\n",
    "#import onnx\n",
    "#import tf2onnx\n",
    "#from tensorflow import keras\n",
    "import ROOT\n"
   ]
  },
  {
   "cell_type": "code",
   "execution_count": null,
   "id": "0347a7c1-106d-45d7-b91e-48de80879a8f",
   "metadata": {
    "tags": []
   },
   "outputs": [],
   "source": [
    "for file in glob.glob(\"**/*.h5\", recursive= True):\n",
    "    print(file)\n",
    "    model = keras.models.load_model(file)\n",
    "    onnx_model_name = file[:-2] + \"onnx\"\n",
    "    onnx_model, _ = tf2onnx.convert.from_keras(model)\n",
    "    #print(\"The graph in model:\\n{}\".format(onnx_model.graph))\n",
    "    onnx.save_model(onnx_model, onnx_model_name)"
   ]
  },
  {
   "cell_type": "code",
   "execution_count": 2,
   "id": "50d65fc9-95e8-4bf4-b20b-4548e97423eb",
   "metadata": {},
   "outputs": [
    {
     "name": "stdout",
     "output_type": "stream",
     "text": [
      "models/TrainBkgTTcpr.onnx\n"
     ]
    },
    {
     "ename": "NameError",
     "evalue": "name 'ROOT' is not defined",
     "output_type": "error",
     "traceback": [
      "\u001b[0;31m---------------------------------------------------------------------------\u001b[0m",
      "\u001b[0;31mNameError\u001b[0m                                 Traceback (most recent call last)",
      "Cell \u001b[0;32mIn[2], line 5\u001b[0m\n\u001b[1;32m      3\u001b[0m head, tail \u001b[38;5;241m=\u001b[39m os\u001b[38;5;241m.\u001b[39mpath\u001b[38;5;241m.\u001b[39msplit(\u001b[38;5;124m\"\u001b[39m\u001b[38;5;124mfile\u001b[39m\u001b[38;5;124m\"\u001b[39m)\n\u001b[1;32m      4\u001b[0m codename \u001b[38;5;241m=\u001b[39m head \u001b[38;5;241m+\u001b[39m tail[:\u001b[38;5;241m-\u001b[39m\u001b[38;5;241m4\u001b[39m] \u001b[38;5;241m+\u001b[39m \u001b[38;5;124m\"\u001b[39m\u001b[38;5;124mhxx\u001b[39m\u001b[38;5;124m\"\u001b[39m\n\u001b[0;32m----> 5\u001b[0m output_model \u001b[38;5;241m=\u001b[39m \u001b[43mROOT\u001b[49m\u001b[38;5;241m.\u001b[39mTMVA\u001b[38;5;241m.\u001b[39mExperimental\u001b[38;5;241m.\u001b[39mSOFIE\u001b[38;5;241m.\u001b[39mRModelParser_ONNX\u001b[38;5;241m.\u001b[39mParse(modelFile)\n\u001b[1;32m      6\u001b[0m output_model\u001b[38;5;241m.\u001b[39mGenerate()\n\u001b[1;32m      7\u001b[0m output_model\u001b[38;5;241m.\u001b[39mOutputGenerated(codename)\n",
      "\u001b[0;31mNameError\u001b[0m: name 'ROOT' is not defined"
     ]
    }
   ],
   "source": [
    "for file in glob.glob(\"**/*.onnx\", recursive= True):\n",
    "    print(file)\n",
    "    head, tail = os.path.split(\"file\")\n",
    "    codename = head + tail[:-4] + \"hxx\"\n",
    "    output_model = ROOT.TMVA.Experimental.SOFIE.RModelParser_ONNX.Parse(modelFile)\n",
    "    output_model.Generate()\n",
    "    output_model.OutputGenerated(codename)\n",
    "#should work if SOFIE is included in root build"
   ]
  },
  {
   "cell_type": "code",
   "execution_count": null,
   "id": "0dbd534b-70cc-4930-aa20-621973031025",
   "metadata": {},
   "outputs": [],
   "source": []
  }
 ],
 "metadata": {
  "kernelspec": {
   "display_name": "KKTrain",
   "language": "python",
   "name": "kktrain"
  },
  "language_info": {
   "codemirror_mode": {
    "name": "ipython",
    "version": 3
   },
   "file_extension": ".py",
   "mimetype": "text/x-python",
   "name": "python",
   "nbconvert_exporter": "python",
   "pygments_lexer": "ipython3",
   "version": "3.11.4"
  }
 },
 "nbformat": 4,
 "nbformat_minor": 5
}
